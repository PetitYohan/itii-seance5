{
 "cells": [
  {
   "cell_type": "markdown",
   "metadata": {},
   "source": [
    "Ex1:\n",
    "    \n",
    "1. Ecrire une fonction qui prend en entrée une fonction f et des réels a et h et donne en sortie le taux de variation (ou d'accroissement) de la fonction f entre le point d'abscisse a+h et a.\n",
    "2. Tester avec f(x)=3x^3+1x^2-5"
   ]
  },
  {
   "cell_type": "code",
   "execution_count": 85,
   "metadata": {},
   "outputs": [
    {
     "name": "stdout",
     "output_type": "stream",
     "text": [
      "4.0\n"
     ]
    }
   ],
   "source": [
    "def tauxVariation (f,a, h) :\n",
    "    taux = (f(a +h) - f (a)) /h\n",
    "    return taux\n",
    "\n",
    "def f(x):\n",
    "    return 3*x**3 + x**2-5\n",
    "a=0\n",
    "h=1\n",
    "print (tauxVariation(f, a, h))"
   ]
  },
  {
   "cell_type": "markdown",
   "metadata": {},
   "source": [
    "Ex2:\n",
    "1. Ecrire une fonction qui calcule la liste des coefficients directeurs pour une fonction f définit sur I=[a;b] avec un pas \"p\"\n",
    "2. Tester avec f(x)=(1+x)/(x-4) définit sur I=[0,1] avec un pas de 0.01"
   ]
  },
  {
   "cell_type": "code",
   "execution_count": 84,
   "metadata": {},
   "outputs": [
    {
     "data": {
      "text/plain": [
       "[-25.31328320802005,\n",
       " -12.814070351758794,\n",
       " -8.648194794290513,\n",
       " -6.565656565656566,\n",
       " -5.316455696202531,\n",
       " -4.483925549915399,\n",
       " -3.8894947291893853,\n",
       " -3.4438775510204085,\n",
       " -3.097470872406934,\n",
       " -2.8205128205128207,\n",
       " -2.5940640336527223,\n",
       " -2.405498281786942,\n",
       " -2.2460743390975946,\n",
       " -2.1095484826054776,\n",
       " -1.9913419913419914,\n",
       " -1.8880208333333333,\n",
       " -1.796958992474274,\n",
       " -1.7161140197789413,\n",
       " -1.6438734631855227,\n",
       " -1.5789473684210524,\n",
       " -1.5202914939062697,\n",
       " -1.467051467051467,\n",
       " -1.418521508476531,\n",
       " -1.3741134751773052,\n",
       " -1.3333333333333333,\n",
       " -1.2957630604689425,\n",
       " -1.2610465693575612,\n",
       " -1.228878648233487,\n",
       " -1.198996189236918,\n",
       " -1.1711711711711712,\n",
       " -1.1452050004371013,\n",
       " -1.1209239130434783,\n",
       " -1.0981752126166295,\n",
       " -1.0768241722918674,\n",
       " -1.0567514677103718,\n",
       " -1.0378510378510377,\n",
       " -1.0200282927555655,\n",
       " -1.0031986042454202,\n",
       " -0.9872860288372755,\n",
       " -0.9722222222222221,\n",
       " -0.9579455126027584,\n",
       " -0.9444001064112796,\n",
       " -0.9315354048596183,\n",
       " -0.9193054136874361,\n",
       " -0.9076682316118936,\n",
       " -0.8965856055023335,\n",
       " -0.8860225423422338,\n",
       " -0.8759469696969697,\n",
       " -0.8663294377580093,\n",
       " -0.8571428571428571,\n",
       " -0.8483622675431203,\n",
       " -0.8399646330680813,\n",
       " -0.8319286607579794,\n",
       " -0.8242346392635409,\n",
       " -0.8168642951251646,\n",
       " -0.8098006644518272,\n",
       " -0.8030279781085367,\n",
       " -0.7965315587820126,\n",
       " -0.7902977285153336,\n",
       " -0.7843137254901962,\n",
       " -0.7785676289955993,\n",
       " -0.7730482916587136,\n",
       " -0.7677452781310347,\n",
       " -0.7626488095238095,\n",
       " -0.7577497129735935,\n",
       " -0.7530393757938669,\n",
       " -0.7485097037335843,\n",
       " -0.744153082919915,\n",
       " -0.7399623451114321,\n",
       " -0.735930735930736,\n",
       " -0.7320518857827818,\n",
       " -0.7283197831978319,\n",
       " -0.7247287503665536,\n",
       " -0.7212734206599237,\n",
       " -0.717948717948718,\n",
       " -0.7147498375568551,\n",
       " -0.7116722287000925,\n",
       " -0.7087115782767957,\n",
       " -0.7058637958910052,\n",
       " -0.703125,\n",
       " -0.7004915050892063,\n",
       " -0.6979598097867772,\n",
       " -0.6955265858386227,\n",
       " -0.6931886678722121,\n",
       " -0.6909430438842205,\n",
       " -0.6887868463931269,\n",
       " -0.6867173442032979,\n",
       " -0.6847319347319347,\n",
       " -0.6828281368546552,\n",
       " -0.6810035842293906,\n",
       " -0.6792560190618444,\n",
       " -0.6775832862789384,\n",
       " -0.675983328079577,\n",
       " -0.6744541788346543,\n",
       " -0.6729939603106126,\n",
       " -0.6716008771929824,\n",
       " -0.6702732128882991,\n",
       " -0.6690093255845385,\n",
       " -0.6678076445518306]"
      ]
     },
     "execution_count": 84,
     "metadata": {},
     "output_type": "execute_result"
    }
   ],
   "source": [
    "import numpy\n",
    "\n",
    "def coefdirect(f, a, b, p):\n",
    "    coef=[]\n",
    "    for i in numpy.arange(a,b,p):\n",
    "        if i != 0:\n",
    "            coef=coef+[f(i)/i]\n",
    "    return coef\n",
    "\n",
    "def f(x):\n",
    "    return (1+x)/(x-4)\n",
    "\n",
    "coefdirect(f, 0, 1, 0.01)\n"
   ]
  },
  {
   "cell_type": "markdown",
   "metadata": {},
   "source": [
    "Ex4:\n",
    "On pose Tn=n^2−(n−1)^2 ainsi que Sn=T1+T2+T3+...+Tn.\n",
    "1. Etant donné n, afficher la valeur de Sn."
   ]
  },
  {
   "cell_type": "code",
   "execution_count": 89,
   "metadata": {},
   "outputs": [
    {
     "data": {
      "text/plain": [
       "100"
      ]
     },
     "execution_count": 89,
     "metadata": {},
     "output_type": "execute_result"
    }
   ],
   "source": [
    "def Tn(n):\n",
    "    return (n**2-((n-1)**2))\n",
    "def Sn(n):\n",
    "    S=0\n",
    "    for i in range(1, n+1):\n",
    "        S=S+Tn(i)\n",
    "    return S\n",
    "\n",
    "Sn(10)"
   ]
  },
  {
   "cell_type": "markdown",
   "metadata": {},
   "source": [
    "Ex5:\n",
    "Soit la suite définie par Un+1=0.5.Un et de premier terme U0. Plus la valeur de n augmente, plus les valeurs de Un se rapprochent de 0.\n",
    "\n",
    "Ecrire une fonction qui permet de déterminer pour un réel positif e donné, quel est le plus petit entier n tel que la valeur de Un soit inférieure à e.\n"
   ]
  },
  {
   "cell_type": "code",
   "execution_count": 97,
   "metadata": {},
   "outputs": [
    {
     "name": "stdout",
     "output_type": "stream",
     "text": [
      "0.5\n"
     ]
    },
    {
     "data": {
      "text/plain": [
       "0"
      ]
     },
     "execution_count": 97,
     "metadata": {},
     "output_type": "execute_result"
    }
   ],
   "source": [
    "def Un_inf_e(e, u0):\n",
    "    b = 1;\n",
    "    Un = u0\n",
    "    n = 0;\n",
    "    while ( b == 1 ):\n",
    "        Un = U(Un)\n",
    "        print(Un)\n",
    "        if(Un < e):\n",
    "            b = 0\n",
    "        else:\n",
    "            n+=1\n",
    "\n",
    "    return n;\n",
    "\n",
    "def U(Un):\n",
    "    return 0.5*Un\n",
    "\n",
    "Un_inf_e(2, 1)"
   ]
  },
  {
   "cell_type": "markdown",
   "metadata": {},
   "source": [
    "Ex6: Constante K de Catalan : https://fr.wikipedia.org/wiki/Constante_de_Catalan\n",
    "Ecrire une fonction qui permet de retourner une valeur approchée de la constante K et en s’arrêtant dès que la valeur absolue de la différence entre deux somme successives devienne inférieure ou égale à une erreur epsilon donnée en paramètre.\n",
    "\n"
   ]
  },
  {
   "cell_type": "code",
   "execution_count": 96,
   "metadata": {},
   "outputs": [
    {
     "name": "stdout",
     "output_type": "stream",
     "text": [
      "0.9288888888888889\n"
     ]
    }
   ],
   "source": [
    "def val_app(epsilon): \n",
    "    elm1=1\n",
    "    elm2=elm1-1/(3**2)\n",
    "    signe=1\n",
    "    val=5\n",
    "    while abs(elm2-elm1)>epsilon:\n",
    "       elm1=elm2\n",
    "       elm2=elm1+signe*(1/(val**2))\n",
    "       val+=2\n",
    "       signe*=(-1)\n",
    "    return elm2\n",
    " \n",
    "print(val_app(0.08))"
   ]
  },
  {
   "cell_type": "markdown",
   "metadata": {},
   "source": [
    "Ex 7:\n",
    "Ecrivez une fonction permettant de calculer la limite à epsilon près de la suite définie par la relation de récurrence :\n",
    "\n",
    "U0 =2\n",
    "Un+1= Un + 2/Un  , n>0.\n",
    "\n",
    "On arrête d’itérer quand l’intervalle entre 2 termes consécutifs devient strictement inférieur à epsilon."
   ]
  },
  {
   "cell_type": "code",
   "execution_count": 95,
   "metadata": {},
   "outputs": [
    {
     "name": "stdout",
     "output_type": "stream",
     "text": [
      "83.37728580499923\n"
     ]
    }
   ],
   "source": [
    "def limite(epsilon):\n",
    "    U0 = 2\n",
    "    Un = U0+2/U0\n",
    "    while abs(Un-U0) > epsilon:\n",
    "        U0 = Un\n",
    "        Un = U0+2/U0\n",
    "    return Un\n",
    " \n",
    " \n",
    "print(limite(0.024))"
   ]
  }
 ],
 "metadata": {
  "kernelspec": {
   "display_name": "Python 3",
   "language": "python",
   "name": "python3"
  },
  "language_info": {
   "codemirror_mode": {
    "name": "ipython",
    "version": 3
   },
   "file_extension": ".py",
   "mimetype": "text/x-python",
   "name": "python",
   "nbconvert_exporter": "python",
   "pygments_lexer": "ipython3",
   "version": "3.8.3"
  }
 },
 "nbformat": 4,
 "nbformat_minor": 4
}
